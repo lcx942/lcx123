{
 "cells": [
  {
   "cell_type": "markdown",
   "metadata": {},
   "source": [
    "# 选择\n",
    "## 布尔类型、数值和表达式\n",
    "![](../Photo/33.png)\n",
    "- 注意：比较运算符的相等是两个等号，一个等到代表赋值\n",
    "- 在Python中可以用整型0来代表False，其他数字来代表True\n",
    "- 后面还会讲到 is 在判断语句中的用发"
   ]
  },
  {
   "cell_type": "code",
   "execution_count": 1,
   "metadata": {},
   "outputs": [
    {
     "data": {
      "text/plain": [
       "False"
      ]
     },
     "execution_count": 1,
     "metadata": {},
     "output_type": "execute_result"
    }
   ],
   "source": [
    "1>2"
   ]
  },
  {
   "cell_type": "code",
   "execution_count": 4,
   "metadata": {},
   "outputs": [
    {
     "data": {
      "text/plain": [
       "True"
      ]
     },
     "execution_count": 4,
     "metadata": {},
     "output_type": "execute_result"
    }
   ],
   "source": [
    "bool('ka ')#布尔类型false  true"
   ]
  },
  {
   "cell_type": "code",
   "execution_count": null,
   "metadata": {},
   "outputs": [],
   "source": [
    "#while true  与 while 1 相等"
   ]
  },
  {
   "cell_type": "code",
   "execution_count": 5,
   "metadata": {},
   "outputs": [
    {
     "name": "stdout",
     "output_type": "stream",
     "text": [
      "8791455601472 8791455601472\n"
     ]
    }
   ],
   "source": [
    "a = id(1)\n",
    "b= id (1)\n",
    "#因为a和b不是同一个对象\n",
    "print(a,b)"
   ]
  },
  {
   "cell_type": "code",
   "execution_count": 7,
   "metadata": {},
   "outputs": [
    {
     "data": {
      "text/plain": [
       "True"
      ]
     },
     "execution_count": 7,
     "metadata": {},
     "output_type": "execute_result"
    }
   ],
   "source": [
    "a=id(1)\n",
    "b=a\n",
    "b is a"
   ]
  },
  {
   "cell_type": "code",
   "execution_count": 2,
   "metadata": {},
   "outputs": [
    {
     "data": {
      "text/plain": [
       "False"
      ]
     },
     "execution_count": 2,
     "metadata": {},
     "output_type": "execute_result"
    }
   ],
   "source": [
    "1=='1'"
   ]
  },
  {
   "cell_type": "code",
   "execution_count": 3,
   "metadata": {},
   "outputs": [
    {
     "data": {
      "text/plain": [
       "True"
      ]
     },
     "execution_count": 3,
     "metadata": {},
     "output_type": "execute_result"
    }
   ],
   "source": [
    "1<=2<=3#python可写"
   ]
  },
  {
   "cell_type": "markdown",
   "metadata": {},
   "source": [
    "## 字符串的比较使用ASCII值"
   ]
  },
  {
   "cell_type": "markdown",
   "metadata": {},
   "source": [
    "## Markdown \n",
    "- https://github.com/younghz/Markdown"
   ]
  },
  {
   "cell_type": "markdown",
   "metadata": {},
   "source": []
  },
  {
   "cell_type": "markdown",
   "metadata": {},
   "source": [
    "## EP:\n",
    "- <img src=\"../Photo/34.png\"></img>\n",
    "- 输入一个数字，判断其实奇数还是偶数"
   ]
  },
  {
   "cell_type": "markdown",
   "metadata": {},
   "source": [
    "## 产生随机数字\n",
    "- 函数random.randint(a,b) 可以用来产生一个a和b之间且包括a和b的随机整数"
   ]
  },
  {
   "cell_type": "markdown",
   "metadata": {},
   "source": [
    "产生一个随机数，你去输入，如果你输入的数大于随机数，那么就告诉你太大了，反之，太小了，\n",
    "然后你一直输入，知道它满意为止"
   ]
  },
  {
   "cell_type": "code",
   "execution_count": 12,
   "metadata": {},
   "outputs": [],
   "source": [
    "import random\n",
    "number = random.randint(0,99)"
   ]
  },
  {
   "cell_type": "code",
   "execution_count": 15,
   "metadata": {},
   "outputs": [
    {
     "name": "stdout",
     "output_type": "stream",
     "text": [
      "请输入一个数：56\n",
      "56 4 输入太大了\n",
      "请输入一个数：52\n",
      "52 4 输入太大了\n",
      "请输入一个数：22\n",
      "22 4 输入太大了\n",
      "请输入一个数：45\n",
      "45 4 输入太大了\n",
      "请输入一个数：45\n",
      "45 4 输入太大了\n"
     ]
    }
   ],
   "source": [
    "for i in range(5):\n",
    "\n",
    "    num = eval(input('请输入一个数：'))\n",
    "    if num < number:\n",
    "        print(num,number,'输入数太小了')\n",
    "    elif num > number:\n",
    "        print(num,number,'输入太大了')\n",
    "    else:\n",
    "        \n",
    "        print(num,number,\"相等\")\n",
    "        \n",
    "        break\n",
    "    \n",
    "    \n"
   ]
  },
  {
   "cell_type": "markdown",
   "metadata": {},
   "source": [
    "##  其他random方法\n",
    "- random.random 返回0.0到1.0之间前闭后开区间的随机浮点\n",
    "- random.randrange(a,b) 前闭后开"
   ]
  },
  {
   "cell_type": "code",
   "execution_count": null,
   "metadata": {},
   "outputs": [],
   "source": []
  },
  {
   "cell_type": "markdown",
   "metadata": {},
   "source": [
    "## EP：\n",
    "- 产生两个随机整数number1和number2，然后显示给用户，使用户输入数字的和，并判定其是否正确\n",
    "- 进阶:写一个随机序号点名程序"
   ]
  },
  {
   "cell_type": "code",
   "execution_count": 19,
   "metadata": {},
   "outputs": [
    {
     "name": "stdout",
     "output_type": "stream",
     "text": [
      "34 38\n",
      "输入的和：72\n",
      "true\n"
     ]
    }
   ],
   "source": [
    "import random\n",
    "number1 = random.randrange(0,99)\n",
    "number2 = random.randrange(0,99)\n",
    "print(number1,number2)\n",
    "sum = eval(input('输入的和：'))\n",
    "number = number1+number2\n",
    "if number== sum:\n",
    "    print('true')\n",
    "else:\n",
    "    print('false')"
   ]
  },
  {
   "cell_type": "code",
   "execution_count": null,
   "metadata": {},
   "outputs": [],
   "source": [
    "    import random\n",
    "    H = random.randint(1,11)\n",
    "    S = random.randint(1,5)\n",
    "    while 1:\n",
    "\n",
    "    print()"
   ]
  },
  {
   "cell_type": "markdown",
   "metadata": {},
   "source": [
    "## if语句\n",
    "- 如果条件正确就执行一个单向if语句，亦即当条件为真的时候才执行if内部的语句\n",
    "- Python有很多选择语句:\n",
    "> - 单向if \n",
    "  - 双向if-else\n",
    "  - 嵌套if\n",
    "  - 多向if-elif-else\n",
    "  \n",
    "- 注意：当语句含有子语句的时候，那么一定至少要有一个缩进，也就是说如果有儿子存在，那么一定要缩进\n",
    "- 切记不可tab键和space混用，单用tab 或者 space\n",
    "- 当你输出的结果是无论if是否为真时都需要显示时，语句应该与if对齐"
   ]
  },
  {
   "cell_type": "code",
   "execution_count": 4,
   "metadata": {},
   "outputs": [
    {
     "name": "stdout",
     "output_type": "stream",
     "text": [
      "年轻嘛[y/n]y\n",
      "帅否[y/n]y\n",
      "有没有老婆[y/n]y\n",
      "回家的诱惑\n"
     ]
    }
   ],
   "source": [
    "#多级if嵌套（相亲记）\n",
    "age=input(\"年轻嘛[y/n]\")\n",
    "if age == 'y':\n",
    "    handsome = input('帅否[y/n]')\n",
    "    if handsome == 'y':\n",
    "        wife = input('有没有老婆[y/n]')\n",
    "        if wife == 'y':\n",
    "            print('回家的诱惑')\n",
    "        else:\n",
    "            print('立马结婚')\n",
    "    else:\n",
    "        print('考虑一下')\n",
    "else:\n",
    "    print(\"baybay \")\n"
   ]
  },
  {
   "cell_type": "markdown",
   "metadata": {},
   "source": []
  },
  {
   "cell_type": "markdown",
   "metadata": {},
   "source": [
    "## EP：\n",
    "- 用户输入一个数字，判断其实奇数还是偶数\n",
    "- 进阶：可以查看下4.5实例研究猜生日"
   ]
  },
  {
   "cell_type": "markdown",
   "metadata": {},
   "source": [
    "## 双向if-else 语句\n",
    "- 如果条件为真，那么走if内部语句，否则走else内部语句"
   ]
  },
  {
   "cell_type": "markdown",
   "metadata": {},
   "source": [
    "## EP：\n",
    "- 产生两个随机整数number1和number2，然后显示给用户，使用户输入数字，并判定其是否正确,如果正确打印“you‘re correct”，否则打印正确错误"
   ]
  },
  {
   "cell_type": "markdown",
   "metadata": {},
   "source": [
    "## 嵌套if 和多向if-elif-else\n",
    "![](../Photo/35.png)"
   ]
  },
  {
   "cell_type": "code",
   "execution_count": 9,
   "metadata": {},
   "outputs": [
    {
     "name": "stdout",
     "output_type": "stream",
     "text": [
      "请输入年份:2048\n",
      "龙\n"
     ]
    }
   ],
   "source": [
    "year = eval(input ('请输入年份:'))\n",
    "if year % 12 == 0:\n",
    "    print('猴')\n",
    "elif year % 12 == 1:\n",
    "    print('鸡')\n",
    "elif year % 12 == 2:\n",
    "    print('狗')\n",
    "elif year % 12 == 3:\n",
    "    print('猪')\n",
    "elif year % 12 == 4:\n",
    "    print('鼠')\n",
    "elif year % 12 == 5:\n",
    "    print('牛')\n",
    "elif year % 12 == 6:\n",
    "    print('虎')\n",
    "elif year % 12 == 7:\n",
    "    print('兔')\n",
    "elif year % 12 == 8:\n",
    "    print('龙')\n",
    "elif year % 12 == 9:\n",
    "    print('蛇')\n",
    "elif year % 12 == 10:\n",
    "    print('马')\n",
    "elif year % 12 == 11:\n",
    "    print('羊')"
   ]
  },
  {
   "cell_type": "markdown",
   "metadata": {},
   "source": [
    "## EP：\n",
    "- 提示用户输入一个年份，然后显示表示这一年的动物\n",
    "![](../Photo/36.png)\n",
    "- 计算身体质量指数的程序\n",
    "- BMI = 以千克为单位的体重除以以米为单位的身高的平方\n",
    "![](../Photo/37.png)"
   ]
  },
  {
   "cell_type": "code",
   "execution_count": 3,
   "metadata": {},
   "outputs": [
    {
     "name": "stdout",
     "output_type": "stream",
     "text": [
      "请输入以米为单位的身高:1.55\n",
      "请输入以千克为单位的体重:47\n",
      "超轻\n"
     ]
    }
   ],
   "source": [
    "high = eval(input ('请输入以米为单位的身高:'))\n",
    "weight = eval(input ('请输入以千克为单位的体重:'))\n",
    "BMI = weight / high ** 2\n",
    "if BMI < 18.5:\n",
    "    print( '超轻')\n",
    "elif 18.5<= BMI < 25.0:\n",
    "    print( '超轻')\n",
    "elif 25.0 <= BMI <30.0:\n",
    "    print( '超重')\n",
    "elif BMI >= 30.0:\n",
    "    print( '痴肥')\n",
    "    "
   ]
  },
  {
   "cell_type": "markdown",
   "metadata": {},
   "source": [
    "## 逻辑运算符\n",
    "![](../Photo/38.png)"
   ]
  },
  {
   "cell_type": "markdown",
   "metadata": {},
   "source": [
    "![](../Photo/39.png)\n",
    "![](../Photo/40.png)"
   ]
  },
  {
   "cell_type": "markdown",
   "metadata": {},
   "source": [
    "## EP：\n",
    "- 判定闰年：一个年份如果能被4整除但不能被100整除，或者能被400整除，那么这个年份就是闰年\n",
    "- 提示用户输入一个年份，并返回是否是闰年\n",
    "- 提示用户输入一个数字，判断其是否为水仙花数"
   ]
  },
  {
   "cell_type": "code",
   "execution_count": 14,
   "metadata": {},
   "outputs": [
    {
     "name": "stdout",
     "output_type": "stream",
     "text": [
      "请输入年份:2020\n",
      "此年为闰年\n"
     ]
    }
   ],
   "source": [
    "year = eval(input ('请输入年份:'))\n",
    "if (year % 4 ==0 and year % 100 !=0 )or year % 400 ==0:\n",
    "    print('此年为闰年')\n",
    "else:\n",
    "    print('此年为平年')"
   ]
  },
  {
   "cell_type": "markdown",
   "metadata": {},
   "source": [
    "\n",
    "水仙花数（Narcissistic number）也被称为超完全数字不变数（pluperfect digital invariant, PPDI）、自恋数、自幂数、阿姆斯壮数或阿姆斯特朗数（Armstrong number），水仙花数是指一个 3 位数，它的每个位上的数字的 3次幂之和等于它本身（例如：1^3 + 5^3+ 3^3 = 153）"
   ]
  },
  {
   "cell_type": "code",
   "execution_count": null,
   "metadata": {},
   "outputs": [],
   "source": []
  },
  {
   "cell_type": "code",
   "execution_count": 16,
   "metadata": {},
   "outputs": [
    {
     "name": "stdout",
     "output_type": "stream",
     "text": [
      "请输入一个数字:123\n",
      "不是水仙花\n"
     ]
    }
   ],
   "source": [
    "Number = eval(input ('请输入一个数字:'))\n",
    "bai =Number // 100\n",
    "shi =Number // 10 % 10\n",
    "ge =Number % 10\n",
    "\n",
    "if bai**3 + shi **3 + ge **3 ==Number:\n",
    "    print('水仙花')\n",
    "else:\n",
    "    print('不是水仙花')"
   ]
  },
  {
   "cell_type": "markdown",
   "metadata": {},
   "source": [
    "## 实例研究：彩票\n",
    "![](../Photo/41.png)"
   ]
  },
  {
   "cell_type": "code",
   "execution_count": 3,
   "metadata": {},
   "outputs": [
    {
     "name": "stdout",
     "output_type": "stream",
     "text": [
      "84\n",
      "请输入两位数：87\n",
      "1000\n"
     ]
    }
   ],
   "source": [
    "import random\n",
    "number = random.randint(10,99)\n",
    "print(number)\n",
    "N=input('请输入两位数：')\n",
    "number_shi = number // 10\n",
    "number_ge = number % 10\n",
    "\n",
    "if N[0] =='0':\n",
    "    N_shi = 0\n",
    "              \n",
    "else :\n",
    "    N_shi = int(N) // 10\n",
    "    N_ge = int(N) % 10\n",
    "    \n",
    "if number == N:\n",
    "    print('10000')\n",
    "elif number_shi + number_ge == N_shi + N_ge:\n",
    "    print('3000')\n",
    "elif (number_ge == N_ge or number_ge == N_shi) or (number_shi== N_ge or number_shi == N_shi):\n",
    "    print('1000')"
   ]
  },
  {
   "cell_type": "markdown",
   "metadata": {},
   "source": [
    "# Homework\n",
    "- 1\n",
    "![](../Photo/42.png)"
   ]
  },
  {
   "cell_type": "code",
   "execution_count": 13,
   "metadata": {},
   "outputs": [
    {
     "name": "stdout",
     "output_type": "stream",
     "text": [
      "请输入一个a,b,c的值:1.0,3,1\n",
      "-0.3819660112501051 -2.618033988749895\n"
     ]
    }
   ],
   "source": [
    "import math\n",
    "a,b,c = eval(input ('请输入一个a,b,c的值:'))\n",
    "h=b*b-4*a*c  #一元二次方程的解\n",
    "r1=(-b+math.sqrt(h))/2*a\n",
    "r2=(-b-math.sqrt(h))/2*a\n",
    "if h > 0:\n",
    "    print(r1,r2)\n",
    "elif h == 0:\n",
    "    print(r1 or r2)\n",
    "elif h < 0:\n",
    "    print('方程无解')\n",
    "\n"
   ]
  },
  {
   "cell_type": "markdown",
   "metadata": {},
   "source": [
    "- 2\n",
    "![](../Photo/43.png)"
   ]
  },
  {
   "cell_type": "code",
   "execution_count": 19,
   "metadata": {},
   "outputs": [
    {
     "name": "stdout",
     "output_type": "stream",
     "text": [
      "63 58\n",
      "请输入两个数字的和：121\n",
      "真\n"
     ]
    }
   ],
   "source": [
    "import random\n",
    "number1 = random.randrange(0,99)\n",
    "number2 = random.randrange(0,99)\n",
    "print(number1,number2)\n",
    "sum = number1 + number2\n",
    "num = eval(input('请输入两个数字的和：'))\n",
    "if num == sum:\n",
    "    print('真')\n",
    "else :\n",
    "    print(\"假\")"
   ]
  },
  {
   "cell_type": "markdown",
   "metadata": {},
   "source": [
    "- 3\n",
    "![](../Photo/44.png)"
   ]
  },
  {
   "cell_type": "code",
   "execution_count": 28,
   "metadata": {},
   "outputs": [
    {
     "name": "stdout",
     "output_type": "stream",
     "text": [
      "请输入表示今天是一周内哪一天的数字: 0\n",
      "请输入表示今天之后到未来某天的天数: 31\n",
      "3\n"
     ]
    }
   ],
   "source": [
    "\n",
    "num = eval(input(\"请输入表示今天是一周内哪一天的数字: \"))\n",
    "day = eval(input(\"请输入表示今天之后到未来某天的天数: \"))\n",
    "res=(num + day)%7#取余\n",
    "print(res)"
   ]
  },
  {
   "cell_type": "markdown",
   "metadata": {},
   "source": [
    "- 4\n",
    "![](../Photo/45.png)"
   ]
  },
  {
   "cell_type": "code",
   "execution_count": 22,
   "metadata": {},
   "outputs": [
    {
     "name": "stdout",
     "output_type": "stream",
     "text": [
      "请输入第一个整数：56\n",
      "请输入第二个整数：58\n",
      "请输入第三个整数：12\n",
      "58 56 12\n"
     ]
    }
   ],
   "source": [
    "a = int(input('请输入第一个整数：'))\n",
    "b = int(input('请输入第二个整数：'))\n",
    "c = int(input('请输入第三个整数：'))\n",
    "if a >  b > c:\n",
    "     print(a,b,c)\n",
    "elif a > c > b:\n",
    "    print(a,c,b)\n",
    "elif b > a > c:\n",
    "    print(b,a,c)\n",
    "elif b > c > a:\n",
    "    print(b,c,a)\n",
    "elif c > a > b:\n",
    "    print(c,a,b)\n",
    "else:\n",
    "    print(c,b,a)"
   ]
  },
  {
   "cell_type": "markdown",
   "metadata": {},
   "source": [
    "- 5\n",
    "![](../Photo/46.png)"
   ]
  },
  {
   "cell_type": "code",
   "execution_count": 9,
   "metadata": {},
   "outputs": [
    {
     "name": "stdout",
     "output_type": "stream",
     "text": [
      "输入第一种的重量和价格：50,24.59\n",
      "输入第二种的重量和价格：25,11.99\n",
      "第2包装种更好\n"
     ]
    }
   ],
   "source": [
    "w1,p1=eval(input('请输入第一种的重量和价格：'))\n",
    "w2,p2=eval(input('请输入第二种的重量和价格：'))\n",
    "if p1<p2:\n",
    "    print(\"第1包装种更好\")\n",
    "elif p1>p2:\n",
    "    print(\"第2包装种更好\")"
   ]
  },
  {
   "cell_type": "markdown",
   "metadata": {},
   "source": [
    "- 6\n",
    "![](../Photo/47.png)"
   ]
  },
  {
   "cell_type": "code",
   "execution_count": 26,
   "metadata": {},
   "outputs": [
    {
     "name": "stdout",
     "output_type": "stream",
     "text": [
      "请输入月份: 2\n",
      "请输入年份: 2020\n",
      "本月29天\n"
     ]
    }
   ],
   "source": [
    "month = eval(input(\"请输入月份: \"))\n",
    "year = eval(input(\"请输入年份: \"))\n",
    "panduan1 = year % 4\n",
    "panduan2 = year % 100\n",
    "panduan3 = year % 400\n",
    "#判断是否闰年\n",
    "if (panduan1 ==  0 and panduan2 != 0) or (panduan3 == 0):\n",
    "    if (month != 2):\n",
    "#判断是否二月\n",
    "        if ((month ==1 or  month == 3 or month == 5 or month ==7)or (month ==8 or month == 12)):\n",
    "            print('本月31天')\n",
    "        else:\n",
    "            print('本月30天')\n",
    "    else :\n",
    "            print('本月29天')\n",
    "else:\n",
    "    if (month != 2):\n",
    "        if ((month ==1 or  month == 3 or month == 5 or month ==7)or (month ==8 or month == 12)):\n",
    "            print('本月31天')\n",
    "        else:\n",
    "            print('本月30天')\n",
    "    else :\n",
    "            print('本月28天')  \n",
    "        "
   ]
  },
  {
   "cell_type": "markdown",
   "metadata": {},
   "source": [
    "- 7\n",
    "![](../Photo/48.png)"
   ]
  },
  {
   "cell_type": "code",
   "execution_count": 10,
   "metadata": {},
   "outputs": [
    {
     "name": "stdout",
     "output_type": "stream",
     "text": [
      "猜测硬币是正面还是反面(0/1);1\n",
      "正确\n"
     ]
    }
   ],
   "source": [
    "import random\n",
    "number = random.randint(0,1)\n",
    "yingbi=eval(input('猜测硬币是正面还是反面(0/1);'))\n",
    "if number==yingbi:\n",
    "    print('正确')\n",
    "else:\n",
    "    print('错误')"
   ]
  },
  {
   "cell_type": "markdown",
   "metadata": {},
   "source": [
    "- 8\n",
    "![](../Photo/49.png)"
   ]
  },
  {
   "cell_type": "code",
   "execution_count": 12,
   "metadata": {},
   "outputs": [
    {
     "name": "stdout",
     "output_type": "stream",
     "text": [
      "请输入数字0（剪刀），1（石头）或2（布）： 2\n",
      "你赢了\n"
     ]
    }
   ],
   "source": [
    "import random\n",
    "num = random.randint(0,2)\n",
    "num_1 = eval(input('请输入数字0（剪刀），1（石头）或2（布）： '))\n",
    "if (num_1==0 and num==0) or (num_1==1 and num==1) or (num_1==2 and num==2):\n",
    "    print(\"平局\")\n",
    "elif (num_1==0 and num==1) or (num_1==1 and num == 2) or (num_1==2 and num == 0):\n",
    "    print(\"电脑赢了\")\n",
    "elif (num_1==0 and num==2) or (num_1==1 and num == 0) or (num_1==2 and num == 1):\n",
    "    print(\"你赢了\")"
   ]
  },
  {
   "cell_type": "markdown",
   "metadata": {},
   "source": [
    "- 9\n",
    "![](../Photo/50.png)"
   ]
  },
  {
   "cell_type": "code",
   "execution_count": null,
   "metadata": {},
   "outputs": [],
   "source": []
  },
  {
   "cell_type": "code",
   "execution_count": 3,
   "metadata": {},
   "outputs": [
    {
     "name": "stdout",
     "output_type": "stream",
     "text": [
      "输入年份:2012\n",
      "输入月份:5\n",
      "输入这个月的某天:12\n",
      "今天是星期五\n"
     ]
    }
   ],
   "source": [
    "y = int(input('输入年份:'))\n",
    "m = int(input('输入月份:'))\n",
    "q = int(input('输入这个月的某天:'))\n",
    "j = (y/100)\n",
    "k = (y % 100)\n",
    "h = (q + 26*(m+1)/10 + k + k/4 + j/4 +5*j)%7\n",
    "if h == 0:\n",
    "    print('今天是星期六')\n",
    "elif h == 1:\n",
    "    print ('今天是星期日')\n",
    "elif h == 2:\n",
    "    print('今天是星期一')\n",
    "elif h == 3:\n",
    "    print('今天是星期二')\n",
    "elif h == 4:\n",
    "    print('今天是星期三')\n",
    "elif h == 5:\n",
    "    print('今天是星期四')\n",
    "else:\n",
    "    print('今天是星期五')"
   ]
  },
  {
   "cell_type": "markdown",
   "metadata": {},
   "source": [
    "- 10\n",
    "![](../Photo/51.png)"
   ]
  },
  {
   "cell_type": "code",
   "execution_count": 2,
   "metadata": {},
   "outputs": [
    {
     "name": "stdout",
     "output_type": "stream",
     "text": [
      "方块Q\n"
     ]
    }
   ],
   "source": [
    "import random\n",
    "color = random.randint(0,4)\n",
    "value = random.randint(0,12)\n",
    "huase = ['黑桃','红桃','方块','梅花','王']\n",
    "card = ['A','2','3','4','5','6','7','8','9','10','J','Q','K']\n",
    "print(huase[color]+card[value])"
   ]
  },
  {
   "cell_type": "code",
   "execution_count": null,
   "metadata": {},
   "outputs": [],
   "source": []
  },
  {
   "cell_type": "markdown",
   "metadata": {},
   "source": [
    "- 11\n",
    "![](../Photo/52.png)"
   ]
  },
  {
   "cell_type": "code",
   "execution_count": 7,
   "metadata": {},
   "outputs": [
    {
     "name": "stdout",
     "output_type": "stream",
     "text": [
      "请输入一个三位整数： 123\n",
      "123 不是回文数\n"
     ]
    }
   ],
   "source": [
    "num = eval (input('请输入一个三位整数： '))\n",
    "bai=num//100\n",
    "ge=num%10\n",
    "if bai==ge:\n",
    "    print(num,'是回文数')\n",
    "else:\n",
    "    print(num,'不是回文数')"
   ]
  },
  {
   "cell_type": "markdown",
   "metadata": {},
   "source": [
    "- 12\n",
    "![](../Photo/53.png)"
   ]
  },
  {
   "cell_type": "code",
   "execution_count": 8,
   "metadata": {},
   "outputs": [
    {
     "name": "stdout",
     "output_type": "stream",
     "text": [
      "输入三角形的三个边：1,1,1\n",
      "周长为： 3\n"
     ]
    }
   ],
   "source": [
    "a,b,c=eval(input(\"输入三角形的三个边：\"))\n",
    "if a+b>c or a+c>b or b+c>a:\n",
    "    print('周长为：',a+b+c)\n",
    "else :\n",
    "    print (\"这个输入是非法的\")"
   ]
  },
  {
   "cell_type": "markdown",
   "metadata": {},
   "source": [
    "# 房间里有100个人，每人都有100元钱，他们在玩一个游戏。每轮游戏中，每个人都要拿出一元钱随机给另一个人，最后这100个人的财富分布是怎样的？"
   ]
  },
  {
   "cell_type": "code",
   "execution_count": 4,
   "metadata": {},
   "outputs": [
    {
     "data": {
      "text/plain": [
       "<Figure size 640x480 with 1 Axes>"
      ]
     },
     "metadata": {},
     "output_type": "display_data"
    },
    {
     "data": {
      "text/plain": [
       "<Figure size 640x480 with 1 Axes>"
      ]
     },
     "metadata": {},
     "output_type": "display_data"
    }
   ],
   "source": [
    "import matplotlib.pyplot as plt\n",
    "import pandas as pd\n",
    "import random\n",
    "person = 100\n",
    "id_list = range(person)\n",
    "id_money_dict = {k: person for k in id_list}\n",
    "round_number = 17000\n",
    "for round in range(round_number):\n",
    "    for id in id_money_dict.keys():\n",
    "        id_money_dict[id] += -1\n",
    "        id_get = random.randint(0, person-1)\n",
    "        while id_get == id:\n",
    "            id_get = random.randint(0, person - 1)\n",
    "        id_money_dict[id_get] += 1\n",
    "se = pd.Series(id_money_dict)\n",
    "se.plot.bar()\n",
    "plt.show()\n",
    "plt.close()\n",
    "plt.show()\n",
    "plt.close()\n",
    "se.plot.hist(bins=100)\n",
    "plt.show()"
   ]
  },
  {
   "cell_type": "code",
   "execution_count": null,
   "metadata": {},
   "outputs": [],
   "source": []
  }
 ],
 "metadata": {
  "kernelspec": {
   "display_name": "Python 3",
   "language": "python",
   "name": "python3"
  },
  "language_info": {
   "codemirror_mode": {
    "name": "ipython",
    "version": 3
   },
   "file_extension": ".py",
   "mimetype": "text/x-python",
   "name": "python",
   "nbconvert_exporter": "python",
   "pygments_lexer": "ipython3",
   "version": "3.7.3"
  }
 },
 "nbformat": 4,
 "nbformat_minor": 2
}
