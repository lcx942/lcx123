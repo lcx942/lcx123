{
 "cells": [
  {
   "cell_type": "markdown",
   "metadata": {},
   "source": [
    "# 函数\n",
    "\n",
    "- 函数可以用来定义可重复代码，组织和简化\n",
    "- 一般来说一个函数在实际开发中为一个小功能\n",
    "- 一个类为一个大功能\n",
    "- 同样函数的长度不要超过一屏"
   ]
  },
  {
   "cell_type": "code",
   "execution_count": null,
   "metadata": {},
   "outputs": [],
   "source": []
  },
  {
   "cell_type": "markdown",
   "metadata": {},
   "source": [
    "## 定义一个函数\n",
    "\n",
    "def function_name(list of parameters):\n",
    "    \n",
    "    do something\n",
    "![](../Photo/69.png)\n",
    "- 以前使用的random 或者range 或者print.. 其实都是函数或者类"
   ]
  },
  {
   "cell_type": "code",
   "execution_count": 1,
   "metadata": {},
   "outputs": [],
   "source": [
    "def jj ():\n",
    "    print(\"hello\")"
   ]
  },
  {
   "cell_type": "code",
   "execution_count": 2,
   "metadata": {},
   "outputs": [
    {
     "name": "stdout",
     "output_type": "stream",
     "text": [
      "hello\n"
     ]
    }
   ],
   "source": [
    "jj()"
   ]
  },
  {
   "cell_type": "code",
   "execution_count": 3,
   "metadata": {},
   "outputs": [],
   "source": [
    "def jj ():\n",
    "    print(\"hello\")\n",
    "    return 100"
   ]
  },
  {
   "cell_type": "code",
   "execution_count": 4,
   "metadata": {},
   "outputs": [
    {
     "name": "stdout",
     "output_type": "stream",
     "text": [
      "hello\n"
     ]
    },
    {
     "data": {
      "text/plain": [
       "100"
      ]
     },
     "execution_count": 4,
     "metadata": {},
     "output_type": "execute_result"
    }
   ],
   "source": [
    "jj()\n"
   ]
  },
  {
   "cell_type": "raw",
   "metadata": {},
   "source": [
    "# python 中的所有函数实际上都是有返回值的（return，none），\n",
    "\n",
    "如果你没有设置return，那么python将不显示none\n",
    "\n",
    "如果你设置return，那么将返回出return的值"
   ]
  },
  {
   "cell_type": "code",
   "execution_count": 9,
   "metadata": {},
   "outputs": [],
   "source": [
    "def max_(num1,num2,num3):\n",
    "    if num1 > num2 > num3 or num1 > num3 > num2:\n",
    "        return num1\n",
    "    if num2 > num1 > num3 or num2 > num3 > num1:\n",
    "        return num2\n",
    "    if num3 > num1 > num2 or num3 > num2 > num1:\n",
    "        return num3\n"
   ]
  },
  {
   "cell_type": "code",
   "execution_count": 10,
   "metadata": {},
   "outputs": [
    {
     "data": {
      "text/plain": [
       "15"
      ]
     },
     "execution_count": 10,
     "metadata": {},
     "output_type": "execute_result"
    }
   ],
   "source": [
    "max(2,9,15)"
   ]
  },
  {
   "cell_type": "code",
   "execution_count": 12,
   "metadata": {},
   "outputs": [],
   "source": [
    "def good(name):\n",
    "    print(\"%s is a good girl\"%name)"
   ]
  },
  {
   "cell_type": "code",
   "execution_count": 16,
   "metadata": {},
   "outputs": [
    {
     "name": "stdout",
     "output_type": "stream",
     "text": [
      "lcx is a good girl\n"
     ]
    }
   ],
   "source": [
    "good(\"lcx\")"
   ]
  },
  {
   "cell_type": "code",
   "execution_count": 17,
   "metadata": {},
   "outputs": [],
   "source": [
    "def good(name1,name2,name='l'):\n",
    "    print(\"%s is a good girl\"%name)"
   ]
  },
  {
   "cell_type": "code",
   "execution_count": 18,
   "metadata": {},
   "outputs": [
    {
     "name": "stdout",
     "output_type": "stream",
     "text": [
      "l is a good girl\n"
     ]
    }
   ],
   "source": [
    "#位置传参\n",
    "good('s','w')\n",
    "\n",
    "#名字传参\n",
    "good(name1='i',name2='f',name='l')"
   ]
  },
  {
   "cell_type": "markdown",
   "metadata": {},
   "source": [
    "函数的参数如果有默认值的情况，当你调用该参数的时候\n",
    "可以不给予参数值，那么就会走该参数的默认值\n",
    "否则的话，就走你给予的参数值\n",
    "含有默认值的参数要放在最后面"
   ]
  },
  {
   "cell_type": "code",
   "execution_count": 7,
   "metadata": {},
   "outputs": [
    {
     "data": {
      "text/plain": [
       "3"
      ]
     },
     "execution_count": 7,
     "metadata": {},
     "output_type": "execute_result"
    }
   ],
   "source": [
    "max([1,2,3])"
   ]
  },
  {
   "cell_type": "code",
   "execution_count": 8,
   "metadata": {},
   "outputs": [
    {
     "data": {
      "text/plain": [
       "10"
      ]
     },
     "execution_count": 8,
     "metadata": {},
     "output_type": "execute_result"
    }
   ],
   "source": [
    "max(1,2,3,5,6,9,1,10)"
   ]
  },
  {
   "cell_type": "markdown",
   "metadata": {},
   "source": [
    "## 调用一个函数\n",
    "- functionName()\n",
    "- \"()\" 就代表调用"
   ]
  },
  {
   "cell_type": "markdown",
   "metadata": {},
   "source": [
    "![](../Photo/70.png)"
   ]
  },
  {
   "cell_type": "markdown",
   "metadata": {},
   "source": [
    "## 带返回值和不带返回值的函数\n",
    "- return 返回的内容\n",
    "- return 返回多个值\n",
    "- 一般情况下，在多个函数协同完成一个功能的时候，那么将会有返回值"
   ]
  },
  {
   "cell_type": "markdown",
   "metadata": {},
   "source": [
    "![](../Photo/71.png)\n",
    "\n",
    "- 当然也可以自定义返回None"
   ]
  },
  {
   "cell_type": "markdown",
   "metadata": {},
   "source": [
    "## EP：\n",
    "![](../Photo/72.png)"
   ]
  },
  {
   "cell_type": "code",
   "execution_count": 31,
   "metadata": {},
   "outputs": [],
   "source": [
    "def fun1():\n",
    "    print('hahaha')\n",
    "def fun2():\n",
    "    print(fun1())"
   ]
  },
  {
   "cell_type": "code",
   "execution_count": 32,
   "metadata": {},
   "outputs": [
    {
     "name": "stdout",
     "output_type": "stream",
     "text": [
      "hahaha\n",
      "None\n"
     ]
    }
   ],
   "source": [
    "fun2()"
   ]
  },
  {
   "cell_type": "code",
   "execution_count": 35,
   "metadata": {},
   "outputs": [],
   "source": [
    "#判断奇偶数\n",
    "def num_(n1):\n",
    "    if n1 % 2 == 0:\n",
    "        print(\"偶数\")\n",
    "    else :\n",
    "        print('奇数')"
   ]
  },
  {
   "cell_type": "code",
   "execution_count": 34,
   "metadata": {},
   "outputs": [
    {
     "name": "stdout",
     "output_type": "stream",
     "text": [
      "奇数\n"
     ]
    }
   ],
   "source": [
    "num_(5)"
   ]
  },
  {
   "cell_type": "code",
   "execution_count": 40,
   "metadata": {},
   "outputs": [],
   "source": [
    "#猜数字的大小\n",
    "import random\n",
    "n2=random.randint(1,10)\n",
    "\n",
    "#for i in range(5):\n",
    "def num2(n1):\n",
    "\n",
    "    if n1 > n2:\n",
    "        print('过高')\n",
    "    elif n2 < n1:\n",
    "         print('过低')\n",
    "    else:\n",
    "        print('正好')\n"
   ]
  },
  {
   "cell_type": "code",
   "execution_count": null,
   "metadata": {},
   "outputs": [],
   "source": []
  },
  {
   "cell_type": "code",
   "execution_count": 29,
   "metadata": {},
   "outputs": [
    {
     "name": "stdout",
     "output_type": "stream",
     "text": [
      "过高\n"
     ]
    }
   ],
   "source": [
    "num2(8)"
   ]
  },
  {
   "cell_type": "code",
   "execution_count": 3,
   "metadata": {},
   "outputs": [],
   "source": [
    "#验证码\n",
    "import random\n",
    "def yan():\n",
    "    while True:\n",
    "        choose=random.randint(0,1)\n",
    "        n1=[[65,90],[97,122]]\n",
    "        range_=n1[choose]\n",
    "        N= \"\"\n",
    "        for i in range(4):\n",
    "            N+=chr(random.randint(range_[0],range_[1]))\n",
    "        print(\"验证码为：\",N)   \n",
    "        me=input(\">>:\")\n",
    "        if me.lower()==N.lower():\n",
    "            print('验证码正确')\n",
    "            break\n",
    "        else:\n",
    "            print('验证码错误')\n"
   ]
  },
  {
   "cell_type": "code",
   "execution_count": 4,
   "metadata": {},
   "outputs": [
    {
     "name": "stdout",
     "output_type": "stream",
     "text": [
      "验证码为： adox\n",
      ">>:adox\n",
      "验证码正确\n"
     ]
    }
   ],
   "source": [
    "yan()"
   ]
  },
  {
   "cell_type": "markdown",
   "metadata": {},
   "source": [
    "# KNN算法\n",
    "# 读取图片，进行对比分析\n",
    "import matplotlib.pyplot as plt \n",
    "\n",
    "res = plt.imread('D:/rabbit.jpg')\n",
    "print(res)"
   ]
  },
  {
   "cell_type": "markdown",
   "metadata": {},
   "source": [
    "## 类型和关键字参数\n",
    "- 普通参数\n",
    "- 多个参数\n",
    "- 默认值参数\n",
    "- 不定长参数"
   ]
  },
  {
   "cell_type": "markdown",
   "metadata": {},
   "source": [
    "## 普通参数"
   ]
  },
  {
   "cell_type": "markdown",
   "metadata": {},
   "source": [
    "## 多个参数"
   ]
  },
  {
   "cell_type": "markdown",
   "metadata": {},
   "source": [
    "## 默认值参数\n",
    "- 默认参数只能放在最后  *之后的必须强制命名传入参数,* 之后的变量必须带参数名"
   ]
  },
  {
   "cell_type": "markdown",
   "metadata": {},
   "source": [
    "# 强制命名\n",
    "- *之后的必须强制命名传入参数,* 之后的变量必须带参数名"
   ]
  },
  {
   "cell_type": "code",
   "execution_count": 19,
   "metadata": {},
   "outputs": [
    {
     "name": "stdout",
     "output_type": "stream",
     "text": [
      "asd\n"
     ]
    }
   ],
   "source": [
    "def haha(*,name):#参数特别重要的时候\n",
    "    print(name)\n",
    "haha(name='asd')#要带名字去调用"
   ]
  },
  {
   "cell_type": "code",
   "execution_count": 16,
   "metadata": {},
   "outputs": [
    {
     "data": {
      "text/plain": [
       "5"
      ]
     },
     "execution_count": 16,
     "metadata": {},
     "output_type": "execute_result"
    }
   ],
   "source": [
    "def max_(*n):\n",
    "    res=0\n",
    "    for i in n:\n",
    "        if i>res:\n",
    "            res=i\n",
    "    return res\n",
    "max_(1,2,3,4,5)"
   ]
  },
  {
   "cell_type": "code",
   "execution_count": 20,
   "metadata": {},
   "outputs": [
    {
     "data": {
      "text/plain": [
       "15"
      ]
     },
     "execution_count": 20,
     "metadata": {},
     "output_type": "execute_result"
    }
   ],
   "source": [
    "def sum_(*n):\n",
    "    res=0\n",
    "    for i in n:\n",
    "        res=i+res    # 求和\n",
    "    return res\n",
    "sum_(1,2,3,4,5)"
   ]
  },
  {
   "cell_type": "code",
   "execution_count": 22,
   "metadata": {},
   "outputs": [
    {
     "data": {
      "text/plain": [
       "2.0"
      ]
     },
     "execution_count": 22,
     "metadata": {},
     "output_type": "execute_result"
    }
   ],
   "source": [
    "#求平均数   count计数 res求和\n",
    "\n",
    "def avg_(*n):\n",
    "    res=0\n",
    "    count=0\n",
    "    for i in n:\n",
    "        res+=i\n",
    "        count+=1\n",
    "    return (res/count)\n",
    "avg_(1,2,3)"
   ]
  },
  {
   "cell_type": "code",
   "execution_count": 21,
   "metadata": {},
   "outputs": [
    {
     "data": {
      "text/plain": [
       "(6, 2.0)"
      ]
     },
     "execution_count": 21,
     "metadata": {},
     "output_type": "execute_result"
    }
   ],
   "source": [
    "#返回和和平均数\n",
    "def avg_(*n):\n",
    "    res=0\n",
    "    count=0\n",
    "    for i in n:\n",
    "        res+=i\n",
    "        count+=1\n",
    "    mean=res/count\n",
    "    return res,mean\n",
    "avg_(1,2,3)"
   ]
  },
  {
   "cell_type": "code",
   "execution_count": 25,
   "metadata": {},
   "outputs": [
    {
     "name": "stdout",
     "output_type": "stream",
     "text": [
      "mea 还未开放\n"
     ]
    }
   ],
   "source": [
    "# 还未开放\n",
    "def sum_(*n,A='sum'):\n",
    "    res=0\n",
    "    count=0\n",
    "    for i in n:\n",
    "        res+=i\n",
    "        count+=1\n",
    "    if A==\"sum\":\n",
    "        return res\n",
    "    elif A==\"mean\":\n",
    "        mean=res/count\n",
    "        return res,mean \n",
    "    else:\n",
    "        print(A,\"还未开放\")\n",
    "sum_(1,2,3,4,A='mea')\n",
    "            "
   ]
  },
  {
   "cell_type": "markdown",
   "metadata": {},
   "source": [
    "## 不定长参数\n",
    "- \\*args, 不定长，输入多少参数都可以，不写入参数也可以\n",
    "> - 可以输入多个参数\n",
    "  - 返回输出结果的类型是元组类型，元组可以迭代，输入多少个参数都可以迭代来取出\n",
    "  - args 名字是可以修改的，只是通常约定为args\n",
    "- \\**kwargs, 不定长第二种\n",
    "> - 可以输入多个参数，但需要带参数名称\n",
    "  - 返回的数据类型是字典\n",
    "  - 输入的一定要是表达式(键值对)\n",
    "- 一般大的项目传入参数时，使用config文件一次写入所有的参数"
   ]
  },
  {
   "cell_type": "markdown",
   "metadata": {},
   "source": [
    "### \\**kwargs, 不定长第二种\n",
    "- 第二种不定长参数传入方法，使用字典数据传入\n",
    "- 写入参数时，必须先写\\*args, 再写\\**kwargs。 这是固定写法"
   ]
  },
  {
   "cell_type": "code",
   "execution_count": 10,
   "metadata": {},
   "outputs": [
    {
     "name": "stdout",
     "output_type": "stream",
     "text": [
      "{'a': 100, 'b': 1000}\n",
      "(1, 2, 3, 4, 5)\n"
     ]
    }
   ],
   "source": [
    "def tt(*args,**kwargs):\n",
    "    print(kwargs)\n",
    "    print(args)\n",
    "tt(1,2,3,4,5,a=100,b=1000)"
   ]
  },
  {
   "cell_type": "markdown",
   "metadata": {},
   "source": [
    "## 变量的作用域\n",
    "- 局部变量 local\n",
    "- 全局变量 global\n",
    "- globals 函数返回一个全局变量的字典，包括所有导入的变量\n",
    "- locals() 函数会以字典类型返回当前位置的全部局部变量。"
   ]
  },
  {
   "cell_type": "code",
   "execution_count": 15,
   "metadata": {},
   "outputs": [
    {
     "name": "stdout",
     "output_type": "stream",
     "text": [
      "1100\n"
     ]
    }
   ],
   "source": [
    "a = 1000\n",
    "b=10\n",
    "def y():\n",
    "    global a,b\n",
    "    a += 100\n",
    "    print(a)\n",
    "y()"
   ]
  },
  {
   "cell_type": "code",
   "execution_count": null,
   "metadata": {},
   "outputs": [],
   "source": [
    "globals()"
   ]
  },
  {
   "cell_type": "markdown",
   "metadata": {},
   "source": [
    "## 注意：\n",
    "- global ：在进行赋值操作的时候需要声明\n",
    "- 官方解释：This is because when you make an assignment to a variable in a scope, that variable becomes local to that scope and shadows any similarly named variable in the outer scope.\n",
    "- ![](../Photo/73.png)"
   ]
  },
  {
   "cell_type": "markdown",
   "metadata": {},
   "source": [
    "## EP：\n",
    "- 定义一个邮箱加密函数，使得输入邮箱后进行ASCII码加密\n",
    "- 定义一个判断其是否为闰年的函数\n",
    "- 函数的嵌套：定义两个函数A，B，B函数接受A函数的数值并判定是否为奇数或者偶数"
   ]
  },
  {
   "cell_type": "markdown",
   "metadata": {},
   "source": [
    "### 统计个数#输入任意一个字符串统计大写，小写以及数字有多少个"
   ]
  },
  {
   "cell_type": "code",
   "execution_count": 26,
   "metadata": {},
   "outputs": [],
   "source": [
    "def tongji(n):\n",
    "    shuzi=0\n",
    "    xiao=0\n",
    "    da=0\n",
    "    for i in n:\n",
    "        num=ord(i)\n",
    "   \n",
    "        if 48<=num<=57:\n",
    "            shuzi+=1\n",
    "        elif 65<=num<=90:\n",
    "            da+=1\n",
    "        elif 97<=num<=122:\n",
    "            xiao+=1 \n",
    "    return shuzi,xiao,da\n",
    "        "
   ]
  },
  {
   "cell_type": "code",
   "execution_count": 27,
   "metadata": {},
   "outputs": [
    {
     "data": {
      "text/plain": [
       "(1, 3, 2)"
      ]
     },
     "execution_count": 27,
     "metadata": {},
     "output_type": "execute_result"
    }
   ],
   "source": [
    "tongji('wASt4g')"
   ]
  },
  {
   "cell_type": "markdown",
   "metadata": {},
   "source": [
    "# Homework\n",
    "- 1\n",
    "![](../Photo/74.png)"
   ]
  },
  {
   "cell_type": "code",
   "execution_count": 50,
   "metadata": {},
   "outputs": [],
   "source": [
    "\n",
    "def getPENtagonalNumber():\n",
    "    num = 0\n",
    "    for i in range(1,100):\n",
    "        n = (i * (3*i-1)) /2\n",
    "        print('%d '%n,end = ' ')\n",
    "\n",
    "        num += 1\n",
    "        if num %10 ==0:\n",
    "            print('\\n')"
   ]
  },
  {
   "cell_type": "code",
   "execution_count": 51,
   "metadata": {},
   "outputs": [
    {
     "name": "stdout",
     "output_type": "stream",
     "text": [
      "1  5  12  22  35  51  70  92  117  145  \n",
      "\n",
      "176  210  247  287  330  376  425  477  532  590  \n",
      "\n",
      "651  715  782  852  925  1001  1080  1162  1247  1335  \n",
      "\n",
      "1426  1520  1617  1717  1820  1926  2035  2147  2262  2380  \n",
      "\n",
      "2501  2625  2752  2882  3015  3151  3290  3432  3577  3725  \n",
      "\n",
      "3876  4030  4187  4347  4510  4676  4845  5017  5192  5370  \n",
      "\n",
      "5551  5735  5922  6112  6305  6501  6700  6902  7107  7315  \n",
      "\n",
      "7526  7740  7957  8177  8400  8626  8855  9087  9322  9560  \n",
      "\n",
      "9801  10045  10292  10542  10795  11051  11310  11572  11837  12105  \n",
      "\n",
      "12376  12650  12927  13207  13490  13776  14065  14357  14652  "
     ]
    }
   ],
   "source": [
    "getPENtagonalNumber()"
   ]
  },
  {
   "cell_type": "markdown",
   "metadata": {},
   "source": [
    "- 2 \n",
    "![](../Photo/75.png)"
   ]
  },
  {
   "cell_type": "code",
   "execution_count": 4,
   "metadata": {},
   "outputs": [],
   "source": [
    "def sumDigits(n):\n",
    "    ge = n%10\n",
    "    num = n//10\n",
    "    shi = num%10\n",
    "    bai = num//10\n",
    "    sum_ = ge + shi + bai\n",
    "    print(sum_)"
   ]
  },
  {
   "cell_type": "code",
   "execution_count": 5,
   "metadata": {},
   "outputs": [
    {
     "name": "stdout",
     "output_type": "stream",
     "text": [
      "9\n"
     ]
    }
   ],
   "source": [
    "sumDigits(234)"
   ]
  },
  {
   "cell_type": "markdown",
   "metadata": {},
   "source": [
    "- 3\n",
    "![](../Photo/76.png)"
   ]
  },
  {
   "cell_type": "code",
   "execution_count": 71,
   "metadata": {},
   "outputs": [],
   "source": [
    "def displaySortedNumbers(num1,num2,num3):\n",
    "    if num1 > num2 > num3:\n",
    "        print(num3,num2,num1)\n",
    "    elif num1 > num3 > num2:\n",
    "        print(num2,num3,num1)\n",
    "    elif num2 > num1 > num3:\n",
    "        print(num3,num1,num2)\n",
    "    elif num2 > num3 > num1:\n",
    "        print(num1,num3,num2)\n",
    "    elif num3 > num1 > num2:\n",
    "        print(num2,num1,num3)\n",
    "    elif num3 > num2 > num1:\n",
    "        print(num1,num2,num3)"
   ]
  },
  {
   "cell_type": "code",
   "execution_count": 73,
   "metadata": {},
   "outputs": [
    {
     "name": "stdout",
     "output_type": "stream",
     "text": [
      "12.4 15 31\n"
     ]
    }
   ],
   "source": [
    "displaySortedNumbers(31,12.4,15)"
   ]
  },
  {
   "cell_type": "code",
   "execution_count": 74,
   "metadata": {},
   "outputs": [
    {
     "name": "stdout",
     "output_type": "stream",
     "text": [
      "2.4 3 5\n"
     ]
    }
   ],
   "source": [
    "displaySortedNumbers(3,2.4,5)"
   ]
  },
  {
   "cell_type": "markdown",
   "metadata": {},
   "source": [
    "# - 4\n",
    "![](../Photo/77.png)"
   ]
  },
  {
   "cell_type": "code",
   "execution_count": null,
   "metadata": {},
   "outputs": [],
   "source": [
    "def futureInvestmentValue(investmentAmount,monthlyInterestRate,year):\n",
    "    "
   ]
  },
  {
   "cell_type": "markdown",
   "metadata": {},
   "source": [
    "- 5\n",
    "![](../Photo/78.png)"
   ]
  },
  {
   "cell_type": "code",
   "execution_count": 9,
   "metadata": {},
   "outputs": [],
   "source": [
    "def printChars(ch1,ch2,numberPerLine):\n",
    "    for ch1 in range (65,91):\n",
    "        #for ch2 in range (65,91):\n",
    "            #return ch2\n",
    "        return ch1"
   ]
  },
  {
   "cell_type": "code",
   "execution_count": 10,
   "metadata": {},
   "outputs": [
    {
     "data": {
      "text/plain": [
       "65"
      ]
     },
     "execution_count": 10,
     "metadata": {},
     "output_type": "execute_result"
    }
   ],
   "source": [
    "printChars('l','z',10)"
   ]
  },
  {
   "cell_type": "markdown",
   "metadata": {},
   "source": [
    "- 6\n",
    "![](../Photo/79.png)"
   ]
  },
  {
   "cell_type": "code",
   "execution_count": 18,
   "metadata": {},
   "outputs": [],
   "source": [
    "def numberOfDayInAYear():\n",
    "    for year in range (2010,2020):\n",
    "        if (year % 4 ==0 and year % 100 !=0 )or year % 400 ==0:\n",
    "            print('此年为闰年366天')\n",
    "        else:\n",
    "            print('此年为平年365天')\n"
   ]
  },
  {
   "cell_type": "code",
   "execution_count": 20,
   "metadata": {},
   "outputs": [
    {
     "name": "stdout",
     "output_type": "stream",
     "text": [
      "此年为平年365天\n",
      "此年为平年365天\n",
      "此年为闰年366天\n",
      "此年为平年365天\n",
      "此年为平年365天\n",
      "此年为平年365天\n",
      "此年为闰年366天\n",
      "此年为平年365天\n",
      "此年为平年365天\n",
      "此年为平年365天\n"
     ]
    }
   ],
   "source": [
    "numberOfDayInAYear()"
   ]
  },
  {
   "cell_type": "markdown",
   "metadata": {},
   "source": [
    "- 7\n",
    "![](../Photo/80.png)"
   ]
  },
  {
   "cell_type": "code",
   "execution_count": null,
   "metadata": {},
   "outputs": [],
   "source": [
    "def distance(x1,y1,x2,y2):\n",
    "    "
   ]
  },
  {
   "cell_type": "markdown",
   "metadata": {},
   "source": [
    "- 8\n",
    "![](../Photo/81.png)"
   ]
  },
  {
   "cell_type": "code",
   "execution_count": 28,
   "metadata": {},
   "outputs": [],
   "source": [
    "def meimei():\n",
    "    p=2\n",
    "    for p in range(2,32):\n",
    "        j=2\n",
    "        for j in range(2,p):\n",
    "            if(p%j==0):\n",
    "                break\n",
    "        else:\n",
    "            n = 2**p-1\n",
    "            print(p,n)"
   ]
  },
  {
   "cell_type": "code",
   "execution_count": 29,
   "metadata": {},
   "outputs": [
    {
     "name": "stdout",
     "output_type": "stream",
     "text": [
      "2 3\n",
      "3 7\n",
      "5 31\n",
      "7 127\n",
      "11 2047\n",
      "13 8191\n",
      "17 131071\n",
      "19 524287\n",
      "23 8388607\n",
      "29 536870911\n",
      "31 2147483647\n"
     ]
    }
   ],
   "source": [
    "meimei()"
   ]
  },
  {
   "cell_type": "markdown",
   "metadata": {},
   "source": [
    "- 9\n",
    "![](../Photo/82.png)\n",
    "![](../Photo/83.png)"
   ]
  },
  {
   "cell_type": "code",
   "execution_count": null,
   "metadata": {},
   "outputs": [],
   "source": [
    "def time():\n",
    "    "
   ]
  },
  {
   "cell_type": "markdown",
   "metadata": {},
   "source": [
    "- 10\n",
    "![](../Photo/84.png)"
   ]
  },
  {
   "cell_type": "code",
   "execution_count": 21,
   "metadata": {},
   "outputs": [
    {
     "ename": "SyntaxError",
     "evalue": "unexpected EOF while parsing (<ipython-input-21-dcd2a312e98e>, line 1)",
     "output_type": "error",
     "traceback": [
      "\u001b[1;36m  File \u001b[1;32m\"<ipython-input-21-dcd2a312e98e>\"\u001b[1;36m, line \u001b[1;32m1\u001b[0m\n\u001b[1;33m    def zhishaizi(ni,n2):\u001b[0m\n\u001b[1;37m                         ^\u001b[0m\n\u001b[1;31mSyntaxError\u001b[0m\u001b[1;31m:\u001b[0m unexpected EOF while parsing\n"
     ]
    }
   ],
   "source": [
    "def zhishaizi(n1,n2):\n",
    "    "
   ]
  },
  {
   "cell_type": "markdown",
   "metadata": {},
   "source": [
    "- 11 \n",
    "### 去网上寻找如何用Python代码发送邮件 \n",
    "    - time.sleep(3)  3秒发送一次\n",
    "    - 一旦错误后，重新换一个邮箱"
   ]
  },
  {
   "cell_type": "markdown",
   "metadata": {},
   "source": [
    "输入两个数字 比如2和5 返回的是2+22+222+2222+……"
   ]
  }
 ],
 "metadata": {
  "kernelspec": {
   "display_name": "Python 3",
   "language": "python",
   "name": "python3"
  },
  "language_info": {
   "codemirror_mode": {
    "name": "ipython",
    "version": 3
   },
   "file_extension": ".py",
   "mimetype": "text/x-python",
   "name": "python",
   "nbconvert_exporter": "python",
   "pygments_lexer": "ipython3",
   "version": "3.7.3"
  }
 },
 "nbformat": 4,
 "nbformat_minor": 2
}
