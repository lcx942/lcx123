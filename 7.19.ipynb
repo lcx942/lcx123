{
 "cells": [
  {
   "cell_type": "markdown",
   "metadata": {},
   "source": [
    "# 循环\n",
    "- 循环是一种控制语句块重复执行的结构\n",
    "- while  适用于广度遍历\n",
    "- for    开发中经常使用"
   ]
  },
  {
   "cell_type": "markdown",
   "metadata": {},
   "source": [
    "## while 循环\n",
    "- 当一个条件保持真的时候while循环重复执行语句\n",
    "- while 循环一定要有结束条件，否则很容易进入死循环\n",
    "- while 循环的语法是：\n",
    "\n",
    "    while loop-contunuation-conndition:\n",
    "\n",
    "        Statement"
   ]
  },
  {
   "cell_type": "markdown",
   "metadata": {},
   "source": [
    "## 示例：\n",
    "sum = 0\n",
    "\n",
    "i = 1\n",
    "\n",
    "while i <10:\n",
    "\n",
    "    sum = sum + i\n",
    "    i = i + 1"
   ]
  },
  {
   "cell_type": "markdown",
   "metadata": {},
   "source": [
    "## 错误示例：\n",
    "sum = 0\n",
    "\n",
    "i = 1\n",
    "\n",
    "while i <10:\n",
    "\n",
    "    sum = sum + i\n",
    "\n",
    "i = i + 1\n",
    "- 一旦进入死循环可按 Ctrl + c 停止"
   ]
  },
  {
   "cell_type": "code",
   "execution_count": 1,
   "metadata": {},
   "outputs": [
    {
     "ename": "KeyboardInterrupt",
     "evalue": "",
     "output_type": "error",
     "traceback": [
      "\u001b[1;31m---------------------------------------------------------------------------\u001b[0m",
      "\u001b[1;31mKeyboardInterrupt\u001b[0m                         Traceback (most recent call last)",
      "\u001b[1;32m<ipython-input-1-647718565c63>\u001b[0m in \u001b[0;36m<module>\u001b[1;34m\u001b[0m\n\u001b[0;32m      2\u001b[0m \u001b[0mi\u001b[0m \u001b[1;33m=\u001b[0m \u001b[1;36m0\u001b[0m\u001b[1;33m\u001b[0m\u001b[1;33m\u001b[0m\u001b[0m\n\u001b[0;32m      3\u001b[0m \u001b[1;32mwhile\u001b[0m \u001b[1;36m1\u001b[0m\u001b[1;33m:\u001b[0m\u001b[1;33m\u001b[0m\u001b[1;33m\u001b[0m\u001b[0m\n\u001b[1;32m----> 4\u001b[1;33m     \u001b[0mos\u001b[0m\u001b[1;33m.\u001b[0m\u001b[0msystem\u001b[0m\u001b[1;33m(\u001b[0m\u001b[1;34m'calc'\u001b[0m\u001b[1;33m)\u001b[0m\u001b[1;33m\u001b[0m\u001b[1;33m\u001b[0m\u001b[0m\n\u001b[0m",
      "\u001b[1;31mKeyboardInterrupt\u001b[0m: "
     ]
    }
   ],
   "source": [
    "import os\n",
    "i = 0\n",
    "while 1:\n",
    "    os.system('calc')"
   ]
  },
  {
   "cell_type": "code",
   "execution_count": 1,
   "metadata": {},
   "outputs": [
    {
     "name": "stdout",
     "output_type": "stream",
     "text": [
      "今天天气好晴朗\n",
      "今天天气好晴朗\n",
      "今天天气好晴朗\n",
      "今天天气好晴朗\n",
      "今天天气好晴朗\n",
      "今天天气好晴朗\n",
      "今天天气好晴朗\n",
      "今天天气好晴朗\n",
      "今天天气好晴朗\n",
      "今天天气好晴朗\n"
     ]
    }
   ],
   "source": [
    "i=0\n",
    "while i <10:\n",
    "    print(\"今天天气好晴朗\")\n",
    "    i += 1"
   ]
  },
  {
   "cell_type": "markdown",
   "metadata": {},
   "source": [
    "## EP：\n",
    "![](../Photo/143.png)\n",
    "![](../Photo/144.png)"
   ]
  },
  {
   "cell_type": "markdown",
   "metadata": {},
   "source": [
    "# 验证码\n",
    "- 随机产生四个字母的验证码，如果正确，输出验证码正确。如果错误，产生新的验证码，用户重新输入。\n",
    "- 验证码只能输入三次，如果三次都错，返回“别爬了，我们小网站没什么好爬的”\n",
    "- 密码登录，如果三次错误，账号被锁定\n"
   ]
  },
  {
   "cell_type": "code",
   "execution_count": 1,
   "metadata": {},
   "outputs": [
    {
     "name": "stdout",
     "output_type": "stream",
     "text": [
      "验证码为：  5674\n",
      "请输入验证码:  5679\n",
      "验证码输入错误\n",
      "验证码为：  4275\n",
      "请输入验证码:  4275\n",
      "验证码输入正确\n"
     ]
    }
   ],
   "source": [
    "import random\n",
    "while 1:\n",
    "    number = random.randint(1000,9999)\n",
    "    print ('验证码为： ',number)\n",
    "    me = eval(input('请输入验证码:  '))\n",
    "    \n",
    "    if number == me:\n",
    "        print('验证码输入正确')\n",
    "        break\n",
    "        #print('~~~~~')#如果break了 则break后的代码都不运行\n",
    "    else:\n",
    "        print('验证码输入错误')"
   ]
  },
  {
   "cell_type": "code",
   "execution_count": 4,
   "metadata": {},
   "outputs": [
    {
     "name": "stdout",
     "output_type": "stream",
     "text": [
      "验证码是：  PfmW\n",
      "输入验证码pfmw\n",
      "验证码正确\n"
     ]
    }
   ],
   "source": [
    "import random\n",
    "while 1:\n",
    "    n1 = chr(random.randint(65,90))\n",
    "    n2 = chr(random.randint(97,122))\n",
    "    n3 = chr(random.randint(65,90))\n",
    "    n4 = chr(random.randint(97,122))\n",
    "    shuffle_n = [n1,n2,n3,n4]\n",
    "    random.shuffle(shuffle_n)\n",
    "    N =  \"\".join(shuffle_n)\n",
    "    print('验证码是： ',N)\n",
    "    me = input('输入验证码')\n",
    "\n",
    "    \n",
    "    if me.lower() == N.lower():\n",
    "        print('验证码正确')\n",
    "        break\n",
    "    else:\n",
    "        print('验证码错误')\n"
   ]
  },
  {
   "cell_type": "code",
   "execution_count": null,
   "metadata": {},
   "outputs": [
    {
     "name": "stdout",
     "output_type": "stream",
     "text": [
      "0\n",
      "1\n",
      "2\n",
      "3\n",
      "验证码是：  QLVS\n"
     ]
    }
   ],
   "source": [
    "import random\n",
    "while 1:\n",
    "    choose = random.randint(0,1)\n",
    "    list_ = [[65,90],[97,122]]\n",
    "    range_ = list_[choose]\n",
    "    N = \"\"\n",
    "    for i in range(4):\n",
    "        print(i)\n",
    "        N += chr(random.randint(range_[0],range_[1]))\n",
    "   \n",
    "    print('验证码是： ',N)\n",
    "    me = input('输入验证码')\n",
    "\n",
    "    \n",
    "    if me.lower() == N.lower():\n",
    "        print('验证码正确')\n",
    "        break\n",
    "    else:\n",
    "        print('验证码错误')\n"
   ]
  },
  {
   "cell_type": "markdown",
   "metadata": {},
   "source": [
    "## 尝试死循环"
   ]
  },
  {
   "cell_type": "markdown",
   "metadata": {},
   "source": [
    "## 实例研究：猜数字\n",
    "- 你将要编写一个能够随机生成一个0到10之间的且包括两者的数字程序，这个程序\n",
    "- 提示用户连续地输入数字直到正确，且提示用户输入的数字是过高还是过低"
   ]
  },
  {
   "cell_type": "code",
   "execution_count": null,
   "metadata": {},
   "outputs": [
    {
     "name": "stdout",
     "output_type": "stream",
     "text": [
      "Sum5\n",
      "Sum8\n",
      "Sum12\n",
      "Sum44\n"
     ]
    }
   ],
   "source": [
    "import random\n",
    "while 1:\n",
    "    N1 = random.randint(0,10)\n",
    "    N2 = random.randint(0,10)\n",
    "    input_ = eval(input('Sum')) \n",
    "    if N1 + N2 ==input_:\n",
    "        print('Correct!')\n",
    "        break"
   ]
  },
  {
   "cell_type": "markdown",
   "metadata": {},
   "source": [
    "## 使用哨兵值来控制循环\n",
    "- 哨兵值来表明输入的结束\n",
    "- ![](../Photo/54.png)"
   ]
  },
  {
   "cell_type": "markdown",
   "metadata": {},
   "source": [
    "## 警告\n",
    "![](../Photo/55.png)"
   ]
  },
  {
   "cell_type": "markdown",
   "metadata": {},
   "source": [
    "## for 循环\n",
    "- Python的for 循环通过一个序列中的每个值来进行迭代\n",
    "- range(a,b,k)， a，b，k 必须为整数\n",
    "- a: start\n",
    "- b: end\n",
    "- k: step\n",
    "- 注意for 是循环一切可迭代对象，而不是只能使用range"
   ]
  },
  {
   "cell_type": "code",
   "execution_count": 1,
   "metadata": {},
   "outputs": [
    {
     "name": "stdout",
     "output_type": "stream",
     "text": [
      "0\n",
      "1\n",
      "2\n",
      "3\n",
      "4\n",
      "5\n",
      "6\n",
      "7\n",
      "8\n",
      "9\n"
     ]
    }
   ],
   "source": [
    "for i in range(10):\n",
    "    print(i)"
   ]
  },
  {
   "cell_type": "code",
   "execution_count": 5,
   "metadata": {},
   "outputs": [
    {
     "name": "stdout",
     "output_type": "stream",
     "text": [
      "10\n",
      "9\n",
      "8\n",
      "7\n",
      "6\n",
      "5\n",
      "4\n",
      "3\n",
      "2\n",
      "1\n"
     ]
    }
   ],
   "source": [
    "for i in range(10,0,-1):\n",
    "    print(i)"
   ]
  },
  {
   "cell_type": "markdown",
   "metadata": {},
   "source": [
    "# 在Python里面一切皆对象"
   ]
  },
  {
   "cell_type": "markdown",
   "metadata": {},
   "source": [
    "## EP:\n",
    "- ![](../Photo/145.png)"
   ]
  },
  {
   "cell_type": "code",
   "execution_count": 3,
   "metadata": {},
   "outputs": [
    {
     "name": "stdout",
     "output_type": "stream",
     "text": [
      "1001\n"
     ]
    }
   ],
   "source": [
    "i = 0\n",
    "sum_ = 0 #sun是保留字符冲突\n",
    "\n",
    "while sum_ < 1001:\n",
    "    sum_ += 1\n",
    "print(sum_)"
   ]
  },
  {
   "cell_type": "code",
   "execution_count": 4,
   "metadata": {},
   "outputs": [
    {
     "name": "stdout",
     "output_type": "stream",
     "text": [
      "1001\n"
     ]
    }
   ],
   "source": [
    "i = 0\n",
    "sum_ = 0 #sun是保留字符冲突\n",
    "\n",
    "while i < 1001:\n",
    "    sum_ += 1\n",
    "    i += 1\n",
    "print(sum_)"
   ]
  },
  {
   "cell_type": "code",
   "execution_count": 9,
   "metadata": {},
   "outputs": [
    {
     "name": "stdout",
     "output_type": "stream",
     "text": [
      "10011\n",
      "141\n"
     ]
    }
   ],
   "source": [
    "sum_ = 0\n",
    "for i in range(10000):\n",
    "    sum_ += i\n",
    "    if sum_ == 10011:\n",
    "        break\n",
    "print (sum_)        \n",
    "print (i)"
   ]
  },
  {
   "cell_type": "markdown",
   "metadata": {},
   "source": [
    "## 嵌套循环\n",
    "- 一个循环可以嵌套另一个循环\n",
    "- 每次循环外层时，内层循环都会被刷新重新完成循环\n",
    "- 也就是说，大循环执行一次，小循环会全部执行一次\n",
    "- 注意：\n",
    "> - 多层循环非常耗时\n",
    "  - 最多使用3层循环"
   ]
  },
  {
   "cell_type": "markdown",
   "metadata": {},
   "source": [
    "## EP：\n",
    "- 使用多层循环完成9X9乘法表\n",
    "- 显示50以内所有的素数"
   ]
  },
  {
   "cell_type": "code",
   "execution_count": 28,
   "metadata": {},
   "outputs": [
    {
     "name": "stdout",
     "output_type": "stream",
     "text": [
      "1 * 1 = 1 \n",
      "2 * 1 = 2 2 * 2 = 4 \n",
      "3 * 1 = 3 3 * 2 = 6 3 * 3 = 9 \n",
      "4 * 1 = 4 4 * 2 = 8 4 * 3 = 12 4 * 4 = 16 \n",
      "5 * 1 = 5 5 * 2 = 10 5 * 3 = 15 5 * 4 = 20 5 * 5 = 25 \n",
      "6 * 1 = 6 6 * 2 = 12 6 * 3 = 18 6 * 4 = 24 6 * 5 = 30 6 * 6 = 36 \n",
      "7 * 1 = 7 7 * 2 = 14 7 * 3 = 21 7 * 4 = 28 7 * 5 = 35 7 * 6 = 42 7 * 7 = 49 \n",
      "8 * 1 = 8 8 * 2 = 16 8 * 3 = 24 8 * 4 = 32 8 * 5 = 40 8 * 6 = 48 8 * 7 = 56 8 * 8 = 64 \n",
      "9 * 1 = 9 9 * 2 = 18 9 * 3 = 27 9 * 4 = 36 9 * 5 = 45 9 * 6 = 54 9 * 7 = 63 9 * 8 = 72 9 * 9 = 81 \n"
     ]
    }
   ],
   "source": [
    "for i in range(1,10):\n",
    "    for j in range(1,i+1):\n",
    "        print('%d * %d = %d' % (i,j, i*j),end=' ' )\n",
    "    print()"
   ]
  },
  {
   "cell_type": "code",
   "execution_count": 32,
   "metadata": {},
   "outputs": [
    {
     "name": "stdout",
     "output_type": "stream",
     "text": [
      "[2, 3, 5, 7, 11, 13, 17, 19, 23, 29, 31, 37, 41, 43, 47, 53, 59, 61, 67, 71, 73, 79, 83, 89, 97]\n"
     ]
    }
   ],
   "source": [
    "num=[];\n",
    "i=2\n",
    "for i in range(2,100):\n",
    "   j=2\n",
    "   for j in range(2,i):\n",
    "      if(i%j==0):\n",
    "         break\n",
    "   else:\n",
    "      num.append(i)\n",
    "print(num)"
   ]
  },
  {
   "cell_type": "code",
   "execution_count": 34,
   "metadata": {},
   "outputs": [
    {
     "ename": "SyntaxError",
     "evalue": "unexpected EOF while parsing (<ipython-input-34-8fc13085d14d>, line 7)",
     "output_type": "error",
     "traceback": [
      "\u001b[1;36m  File \u001b[1;32m\"<ipython-input-34-8fc13085d14d>\"\u001b[1;36m, line \u001b[1;32m7\u001b[0m\n\u001b[1;33m    print(i\u001b[0m\n\u001b[1;37m           ^\u001b[0m\n\u001b[1;31mSyntaxError\u001b[0m\u001b[1;31m:\u001b[0m unexpected EOF while parsing\n"
     ]
    }
   ],
   "source": [
    "i=2   \n",
    "for i in range(2,100):  # 取i从2开始，2 最小的质数\n",
    "    for j in range(2,i):     #j在i的范围内取，range区间取不到i，看i是否有其他因数\n",
    "        if i%j==0:\n",
    "            break\n",
    "    if i%j!=0:  #最好用if 如果用else不规范\n",
    "        print(i)"
   ]
  },
  {
   "cell_type": "markdown",
   "metadata": {},
   "source": [
    "## 关键字 break 和 continue\n",
    "- break 跳出循环，终止循环\n",
    "- continue 跳出此次循环，继续执行"
   ]
  },
  {
   "cell_type": "code",
   "execution_count": 16,
   "metadata": {},
   "outputs": [
    {
     "name": "stdout",
     "output_type": "stream",
     "text": [
      "0 0\n",
      "0 1\n",
      "0 2\n",
      "0 3\n",
      "0 4\n",
      "0 5\n",
      "1 0\n",
      "1 1\n",
      "1 2\n",
      "1 3\n",
      "1 4\n",
      "1 5\n",
      "2 0\n",
      "2 1\n",
      "2 2\n",
      "2 3\n",
      "2 4\n",
      "2 5\n",
      "3 0\n",
      "3 1\n",
      "3 2\n",
      "3 3\n",
      "3 4\n",
      "3 5\n",
      "4 0\n",
      "4 1\n",
      "4 2\n",
      "4 3\n",
      "4 4\n",
      "4 5\n",
      "5 0\n",
      "5 1\n",
      "5 2\n",
      "5 3\n",
      "5 4\n",
      "5 5\n",
      "6 0\n",
      "6 1\n",
      "6 2\n",
      "6 3\n",
      "6 4\n",
      "6 5\n",
      "7 0\n",
      "7 1\n",
      "7 2\n",
      "7 3\n",
      "7 4\n",
      "7 5\n",
      "8 0\n",
      "8 1\n",
      "8 2\n",
      "8 3\n",
      "8 4\n",
      "8 5\n",
      "9 0\n",
      "9 1\n",
      "9 2\n",
      "9 3\n",
      "9 4\n",
      "9 5\n"
     ]
    }
   ],
   "source": [
    "for i in range(10):\n",
    "    for j in range(10):\n",
    "        print(i,j)\n",
    "        if  j == 5:\n",
    "            break\n",
    "              \n"
   ]
  },
  {
   "cell_type": "code",
   "execution_count": 17,
   "metadata": {},
   "outputs": [
    {
     "name": "stdout",
     "output_type": "stream",
     "text": [
      "Wall time: 0 ns\n"
     ]
    },
    {
     "ename": "KeyboardInterrupt",
     "evalue": "",
     "output_type": "error",
     "traceback": [
      "\u001b[1;31m---------------------------------------------------------------------------\u001b[0m",
      "\u001b[1;31mKeyboardInterrupt\u001b[0m                         Traceback (most recent call last)",
      "\u001b[1;32m<ipython-input-17-6f49525ea3dd>\u001b[0m in \u001b[0;36m<module>\u001b[1;34m\u001b[0m\n\u001b[0;32m      3\u001b[0m     \u001b[1;32mfor\u001b[0m \u001b[0mj\u001b[0m \u001b[1;32min\u001b[0m \u001b[0mrange\u001b[0m\u001b[1;33m(\u001b[0m\u001b[1;36m100000\u001b[0m\u001b[1;33m)\u001b[0m\u001b[1;33m:\u001b[0m\u001b[1;33m\u001b[0m\u001b[1;33m\u001b[0m\u001b[0m\n\u001b[0;32m      4\u001b[0m         \u001b[1;32mfor\u001b[0m \u001b[0mk\u001b[0m \u001b[1;32min\u001b[0m \u001b[0mrange\u001b[0m\u001b[1;33m(\u001b[0m\u001b[1;36m100000\u001b[0m\u001b[1;33m)\u001b[0m\u001b[1;33m:\u001b[0m\u001b[1;33m\u001b[0m\u001b[1;33m\u001b[0m\u001b[0m\n\u001b[1;32m----> 5\u001b[1;33m             \u001b[0mk\u001b[0m \u001b[1;33m+=\u001b[0m \u001b[0mi\u001b[0m\u001b[1;33m\u001b[0m\u001b[1;33m\u001b[0m\u001b[0m\n\u001b[0m",
      "\u001b[1;31mKeyboardInterrupt\u001b[0m: "
     ]
    }
   ],
   "source": [
    "%time\n",
    "for i in range(100000):\n",
    "    for j in range(100000):\n",
    "        for k in range(100000):\n",
    "            k += i"
   ]
  },
  {
   "cell_type": "code",
   "execution_count": null,
   "metadata": {},
   "outputs": [],
   "source": []
  },
  {
   "cell_type": "markdown",
   "metadata": {},
   "source": [
    "## 注意\n",
    "![](../Photo/56.png)\n",
    "![](../Photo/57.png)"
   ]
  },
  {
   "cell_type": "markdown",
   "metadata": {},
   "source": [
    "# Homework\n",
    "- 1 \n",
    "![](../Photo/58.png)"
   ]
  },
  {
   "cell_type": "code",
   "execution_count": 18,
   "metadata": {},
   "outputs": [
    {
     "name": "stdout",
     "output_type": "stream",
     "text": [
      "1\n",
      "2\n",
      "-1\n",
      "3\n",
      "5\n",
      "3\n",
      "61\n",
      "0\n",
      "正数个数： 6\n",
      "负数个数 1\n",
      "总和 74\n",
      "平均数 10.571428571428571\n"
     ]
    }
   ],
   "source": [
    "integer_sum = 0\n",
    "positive_numbers = 0\n",
    "minus_numbers = 0\n",
    "temp = 1\n",
    "while temp == 1:\n",
    "    integer = int(input())\n",
    "    if integer > 0 :\n",
    "        positive_numbers += 1\n",
    "    elif integer < 0:\n",
    "        minus_numbers += 1\n",
    "    elif integer == 0:\n",
    "        break\n",
    "    integer_sum += integer\n",
    "print('正数个数：',positive_numbers)\n",
    "print('负数个数',minus_numbers)\n",
    "print('总和',integer_sum)\n",
    "print('平均数',float(integer_sum / (positive_numbers + minus_numbers)))"
   ]
  },
  {
   "cell_type": "markdown",
   "metadata": {},
   "source": [
    "- 2\n",
    "![](../Photo/59.png)"
   ]
  },
  {
   "cell_type": "code",
   "execution_count": 16,
   "metadata": {},
   "outputs": [
    {
     "name": "stdout",
     "output_type": "stream",
     "text": [
      "16288.946267774414\n"
     ]
    }
   ],
   "source": [
    "i= 1\n",
    "b = 10000\n",
    "sum_ = 0\n",
    "for i in range(10):\n",
    "    sum_ = (b * 0.05) + b\n",
    "    b = sum_\n",
    "    i += 1\n",
    "print(sum_)"
   ]
  },
  {
   "cell_type": "markdown",
   "metadata": {},
   "source": [
    "- 3\n",
    "![](../Photo/58.png)"
   ]
  },
  {
   "cell_type": "markdown",
   "metadata": {},
   "source": [
    "- 4\n",
    "![](../Photo/60.png)"
   ]
  },
  {
   "cell_type": "code",
   "execution_count": 15,
   "metadata": {},
   "outputs": [
    {
     "name": "stdout",
     "output_type": "stream",
     "text": [
      "120 150 180 210 240 270 300 330 360 390 420 450 480 510 540 570 600 630 660 690 720 750 780 810 840 870 900 930 960 990 "
     ]
    }
   ],
   "source": [
    "for i in range(100,1000):\n",
    "    if i % 5 == 0 and i % 6 == 0:\n",
    "          print(i,end = ' ')"
   ]
  },
  {
   "cell_type": "markdown",
   "metadata": {},
   "source": [
    "- 5\n",
    "![](../Photo/61.png)"
   ]
  },
  {
   "cell_type": "code",
   "execution_count": 9,
   "metadata": {},
   "outputs": [
    {
     "name": "stdout",
     "output_type": "stream",
     "text": [
      "110\n"
     ]
    }
   ],
   "source": [
    "n = 1\n",
    "while n*n<12000:\n",
    "    n=n+1\n",
    "    continue\n",
    "print(n)"
   ]
  },
  {
   "cell_type": "code",
   "execution_count": 10,
   "metadata": {},
   "outputs": [
    {
     "name": "stdout",
     "output_type": "stream",
     "text": [
      "23\n",
      "22\n"
     ]
    }
   ],
   "source": [
    "m = 1\n",
    "while 12000>m*m*m:\n",
    "    m=m+1\n",
    "    continue\n",
    "print(m)\n",
    "n=m-1\n",
    "print(n)"
   ]
  },
  {
   "cell_type": "markdown",
   "metadata": {},
   "source": [
    "- 6\n",
    "![](../Photo/62.png)"
   ]
  },
  {
   "cell_type": "code",
   "execution_count": null,
   "metadata": {},
   "outputs": [],
   "source": []
  },
  {
   "cell_type": "markdown",
   "metadata": {},
   "source": [
    "- 7\n",
    "![](../Photo/63.png)"
   ]
  },
  {
   "cell_type": "code",
   "execution_count": 14,
   "metadata": {},
   "outputs": [
    {
     "name": "stdout",
     "output_type": "stream",
     "text": [
      "11.397003949278504\n"
     ]
    }
   ],
   "source": [
    "i = 1\n",
    "a = i\n",
    "while i<50000:\n",
    "    i += 1\n",
    "    a += 1/i\n",
    "print(a)"
   ]
  },
  {
   "cell_type": "markdown",
   "metadata": {},
   "source": [
    "- 8\n",
    "![](../Photo/64.png)"
   ]
  },
  {
   "cell_type": "code",
   "execution_count": null,
   "metadata": {},
   "outputs": [],
   "source": []
  },
  {
   "cell_type": "markdown",
   "metadata": {},
   "source": [
    "- 9\n",
    "![](../Photo/65.png)"
   ]
  },
  {
   "cell_type": "code",
   "execution_count": 13,
   "metadata": {},
   "outputs": [
    {
     "name": "stdout",
     "output_type": "stream",
     "text": [
      "pi = 3.141392653591791\n"
     ]
    }
   ],
   "source": [
    "pi = 0\n",
    "i = 1 #控制分母\n",
    "j = 1 #控制符号\n",
    "while True:\n",
    "    temp = 1 / i * j\n",
    "    if abs(temp) < pow(10,-4):\n",
    "        break\n",
    "    pi += temp\n",
    "    i += 2\n",
    "    j *= -1\n",
    "pi *= 4\n",
    "print('pi =',pi)\n"
   ]
  },
  {
   "cell_type": "markdown",
   "metadata": {},
   "source": [
    "- 10 \n",
    "![](../Photo/66.png)"
   ]
  },
  {
   "cell_type": "code",
   "execution_count": 12,
   "metadata": {},
   "outputs": [
    {
     "name": "stdout",
     "output_type": "stream",
     "text": [
      "[1, 2, 3]\n",
      "6\n",
      "[1, 2, 4, 7, 14]\n",
      "28\n",
      "[1, 2, 4, 8, 16, 31, 62, 124, 248]\n",
      "496\n",
      "[1, 2, 4, 8, 16, 32, 64, 127, 254, 508, 1016, 2032, 4064]\n",
      "8128\n"
     ]
    }
   ],
   "source": [
    " \n",
    "l = [ ]\n",
    "for n in range (1,10000):\n",
    "    for a in range (1,n):\n",
    "        if n%a ==0:\n",
    "            l.append(a)\n",
    "    if sum(l)==n:\n",
    "        print (l)\n",
    "        print (n)\n",
    "    l = []"
   ]
  },
  {
   "cell_type": "markdown",
   "metadata": {},
   "source": [
    "- 11\n",
    "![](../Photo/67.png)"
   ]
  },
  {
   "cell_type": "code",
   "execution_count": 2,
   "metadata": {},
   "outputs": [
    {
     "name": "stdout",
     "output_type": "stream",
     "text": [
      "[[1, 2], [1, 3], [1, 4], [1, 5], [1, 6], [1, 7], [2, 3], [2, 4], [2, 5], [2, 6], [2, 7], [3, 4], [3, 5], [3, 6], [3, 7], [4, 5], [4, 6], [4, 7], [5, 6], [5, 7], [6, 7]]\n",
      "21\n"
     ]
    }
   ],
   "source": [
    "tmp = []\n",
    "for x in range(1,8):\n",
    "    for y in range(1,8):\n",
    "        if x != y and sorted([x,y]) not in tmp:\n",
    "            tmp.append([x,y]) \n",
    "print (tmp)\n",
    "print (len(tmp))"
   ]
  },
  {
   "cell_type": "code",
   "execution_count": 11,
   "metadata": {},
   "outputs": [
    {
     "name": "stdout",
     "output_type": "stream",
     "text": [
      "1 1\n",
      "1 2\n",
      "1 3\n",
      "1 4\n",
      "1 5\n",
      "1 6\n",
      "2 1\n",
      "2 2\n",
      "2 3\n",
      "2 4\n",
      "2 5\n",
      "2 6\n",
      "3 1\n",
      "3 2\n",
      "3 3\n",
      "3 4\n",
      "3 5\n",
      "3 6\n",
      "4 1\n",
      "4 2\n",
      "4 3\n",
      "4 4\n",
      "4 5\n",
      "4 6\n",
      "5 1\n",
      "5 2\n",
      "5 3\n",
      "5 4\n",
      "5 5\n",
      "5 6\n",
      "6 1\n",
      "6 2\n",
      "6 3\n",
      "6 4\n",
      "6 5\n",
      "6 6\n",
      "组合总个数： 36\n"
     ]
    }
   ],
   "source": [
    "a = 0\n",
    "for i in range (1,7):\n",
    "    for j in range(1,7):\n",
    "        a += 1\n",
    "        print (i,j)\n",
    "print('组合总个数：',a)"
   ]
  },
  {
   "cell_type": "markdown",
   "metadata": {},
   "source": [
    "- 12\n",
    "![](../Photo/68.png)"
   ]
  },
  {
   "cell_type": "code",
   "execution_count": null,
   "metadata": {},
   "outputs": [],
   "source": [
    "\n",
    "import numpy as np"
   ]
  }
 ],
 "metadata": {
  "kernelspec": {
   "display_name": "Python 3",
   "language": "python",
   "name": "python3"
  },
  "language_info": {
   "codemirror_mode": {
    "name": "ipython",
    "version": 3
   },
   "file_extension": ".py",
   "mimetype": "text/x-python",
   "name": "python",
   "nbconvert_exporter": "python",
   "pygments_lexer": "ipython3",
   "version": "3.7.3"
  }
 },
 "nbformat": 4,
 "nbformat_minor": 2
}
